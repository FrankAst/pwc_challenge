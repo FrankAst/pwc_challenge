{
 "cells": [
  {
   "cell_type": "markdown",
   "id": "067b6c8c",
   "metadata": {},
   "source": [
    "# Libraries"
   ]
  },
  {
   "cell_type": "code",
   "execution_count": 2,
   "id": "eac90e04",
   "metadata": {},
   "outputs": [],
   "source": [
    "import pandas as pd"
   ]
  },
  {
   "cell_type": "markdown",
   "id": "d0f57a8f",
   "metadata": {},
   "source": [
    "# Datasets"
   ]
  },
  {
   "cell_type": "code",
   "execution_count": 5,
   "id": "c07ad223",
   "metadata": {},
   "outputs": [],
   "source": [
    "people_df = pd.read_csv('../data/people.csv')\n",
    "salary_df = pd.read_csv('../data/salary.csv')\n",
    "description_df = pd.read_csv('../data/descriptions.csv')"
   ]
  },
  {
   "cell_type": "markdown",
   "id": "3e06d6b8",
   "metadata": {},
   "source": [
    "## Exploratory Data Analysis (EDA)"
   ]
  },
  {
   "cell_type": "markdown",
   "id": "f2a09570",
   "metadata": {},
   "source": [
    "### People"
   ]
  },
  {
   "cell_type": "code",
   "execution_count": 6,
   "id": "7ced10a5",
   "metadata": {},
   "outputs": [
    {
     "name": "stdout",
     "output_type": "stream",
     "text": [
      "<class 'pandas.core.frame.DataFrame'>\n",
      "RangeIndex: 375 entries, 0 to 374\n",
      "Data columns (total 6 columns):\n",
      " #   Column               Non-Null Count  Dtype  \n",
      "---  ------               --------------  -----  \n",
      " 0   id                   375 non-null    int64  \n",
      " 1   Age                  370 non-null    float64\n",
      " 2   Gender               370 non-null    object \n",
      " 3   Education Level      370 non-null    object \n",
      " 4   Job Title            370 non-null    object \n",
      " 5   Years of Experience  373 non-null    float64\n",
      "dtypes: float64(2), int64(1), object(3)\n",
      "memory usage: 17.7+ KB\n"
     ]
    }
   ],
   "source": [
    "people_df.info()"
   ]
  },
  {
   "cell_type": "code",
   "execution_count": 7,
   "id": "43ee6b38",
   "metadata": {},
   "outputs": [
    {
     "data": {
      "text/html": [
       "<div>\n",
       "<style scoped>\n",
       "    .dataframe tbody tr th:only-of-type {\n",
       "        vertical-align: middle;\n",
       "    }\n",
       "\n",
       "    .dataframe tbody tr th {\n",
       "        vertical-align: top;\n",
       "    }\n",
       "\n",
       "    .dataframe thead th {\n",
       "        text-align: right;\n",
       "    }\n",
       "</style>\n",
       "<table border=\"1\" class=\"dataframe\">\n",
       "  <thead>\n",
       "    <tr style=\"text-align: right;\">\n",
       "      <th></th>\n",
       "      <th>id</th>\n",
       "      <th>Age</th>\n",
       "      <th>Gender</th>\n",
       "      <th>Education Level</th>\n",
       "      <th>Job Title</th>\n",
       "      <th>Years of Experience</th>\n",
       "    </tr>\n",
       "  </thead>\n",
       "  <tbody>\n",
       "    <tr>\n",
       "      <th>0</th>\n",
       "      <td>0</td>\n",
       "      <td>32.0</td>\n",
       "      <td>Male</td>\n",
       "      <td>Bachelor's</td>\n",
       "      <td>Software Engineer</td>\n",
       "      <td>5.0</td>\n",
       "    </tr>\n",
       "    <tr>\n",
       "      <th>1</th>\n",
       "      <td>1</td>\n",
       "      <td>28.0</td>\n",
       "      <td>Female</td>\n",
       "      <td>Master's</td>\n",
       "      <td>Data Analyst</td>\n",
       "      <td>3.0</td>\n",
       "    </tr>\n",
       "    <tr>\n",
       "      <th>2</th>\n",
       "      <td>2</td>\n",
       "      <td>45.0</td>\n",
       "      <td>Male</td>\n",
       "      <td>PhD</td>\n",
       "      <td>Senior Manager</td>\n",
       "      <td>15.0</td>\n",
       "    </tr>\n",
       "    <tr>\n",
       "      <th>3</th>\n",
       "      <td>3</td>\n",
       "      <td>36.0</td>\n",
       "      <td>Female</td>\n",
       "      <td>Bachelor's</td>\n",
       "      <td>Sales Associate</td>\n",
       "      <td>7.0</td>\n",
       "    </tr>\n",
       "    <tr>\n",
       "      <th>4</th>\n",
       "      <td>4</td>\n",
       "      <td>52.0</td>\n",
       "      <td>Male</td>\n",
       "      <td>Master's</td>\n",
       "      <td>Director</td>\n",
       "      <td>20.0</td>\n",
       "    </tr>\n",
       "  </tbody>\n",
       "</table>\n",
       "</div>"
      ],
      "text/plain": [
       "   id   Age  Gender Education Level          Job Title  Years of Experience\n",
       "0   0  32.0    Male      Bachelor's  Software Engineer                  5.0\n",
       "1   1  28.0  Female        Master's       Data Analyst                  3.0\n",
       "2   2  45.0    Male             PhD     Senior Manager                 15.0\n",
       "3   3  36.0  Female      Bachelor's    Sales Associate                  7.0\n",
       "4   4  52.0    Male        Master's           Director                 20.0"
      ]
     },
     "execution_count": 7,
     "metadata": {},
     "output_type": "execute_result"
    }
   ],
   "source": [
    "people_df.head()"
   ]
  },
  {
   "cell_type": "code",
   "execution_count": 8,
   "id": "6c5c5ea3",
   "metadata": {},
   "outputs": [
    {
     "data": {
      "text/html": [
       "<div>\n",
       "<style scoped>\n",
       "    .dataframe tbody tr th:only-of-type {\n",
       "        vertical-align: middle;\n",
       "    }\n",
       "\n",
       "    .dataframe tbody tr th {\n",
       "        vertical-align: top;\n",
       "    }\n",
       "\n",
       "    .dataframe thead th {\n",
       "        text-align: right;\n",
       "    }\n",
       "</style>\n",
       "<table border=\"1\" class=\"dataframe\">\n",
       "  <thead>\n",
       "    <tr style=\"text-align: right;\">\n",
       "      <th></th>\n",
       "      <th>id</th>\n",
       "      <th>Age</th>\n",
       "      <th>Years of Experience</th>\n",
       "    </tr>\n",
       "  </thead>\n",
       "  <tbody>\n",
       "    <tr>\n",
       "      <th>count</th>\n",
       "      <td>375.000000</td>\n",
       "      <td>370.000000</td>\n",
       "      <td>373.000000</td>\n",
       "    </tr>\n",
       "    <tr>\n",
       "      <th>mean</th>\n",
       "      <td>187.000000</td>\n",
       "      <td>37.437838</td>\n",
       "      <td>10.030831</td>\n",
       "    </tr>\n",
       "    <tr>\n",
       "      <th>std</th>\n",
       "      <td>108.397417</td>\n",
       "      <td>7.080465</td>\n",
       "      <td>6.557007</td>\n",
       "    </tr>\n",
       "    <tr>\n",
       "      <th>min</th>\n",
       "      <td>0.000000</td>\n",
       "      <td>23.000000</td>\n",
       "      <td>0.000000</td>\n",
       "    </tr>\n",
       "    <tr>\n",
       "      <th>25%</th>\n",
       "      <td>93.500000</td>\n",
       "      <td>31.250000</td>\n",
       "      <td>4.000000</td>\n",
       "    </tr>\n",
       "    <tr>\n",
       "      <th>50%</th>\n",
       "      <td>187.000000</td>\n",
       "      <td>36.000000</td>\n",
       "      <td>9.000000</td>\n",
       "    </tr>\n",
       "    <tr>\n",
       "      <th>75%</th>\n",
       "      <td>280.500000</td>\n",
       "      <td>44.000000</td>\n",
       "      <td>15.000000</td>\n",
       "    </tr>\n",
       "    <tr>\n",
       "      <th>max</th>\n",
       "      <td>374.000000</td>\n",
       "      <td>53.000000</td>\n",
       "      <td>25.000000</td>\n",
       "    </tr>\n",
       "  </tbody>\n",
       "</table>\n",
       "</div>"
      ],
      "text/plain": [
       "               id         Age  Years of Experience\n",
       "count  375.000000  370.000000           373.000000\n",
       "mean   187.000000   37.437838            10.030831\n",
       "std    108.397417    7.080465             6.557007\n",
       "min      0.000000   23.000000             0.000000\n",
       "25%     93.500000   31.250000             4.000000\n",
       "50%    187.000000   36.000000             9.000000\n",
       "75%    280.500000   44.000000            15.000000\n",
       "max    374.000000   53.000000            25.000000"
      ]
     },
     "execution_count": 8,
     "metadata": {},
     "output_type": "execute_result"
    }
   ],
   "source": [
    "people_df.describe()"
   ]
  },
  {
   "cell_type": "markdown",
   "id": "4e7a691c",
   "metadata": {},
   "source": [
    "#### Nulos"
   ]
  },
  {
   "cell_type": "code",
   "execution_count": 11,
   "id": "e7a4223f",
   "metadata": {},
   "outputs": [
    {
     "data": {
      "text/html": [
       "<div>\n",
       "<style scoped>\n",
       "    .dataframe tbody tr th:only-of-type {\n",
       "        vertical-align: middle;\n",
       "    }\n",
       "\n",
       "    .dataframe tbody tr th {\n",
       "        vertical-align: top;\n",
       "    }\n",
       "\n",
       "    .dataframe thead th {\n",
       "        text-align: right;\n",
       "    }\n",
       "</style>\n",
       "<table border=\"1\" class=\"dataframe\">\n",
       "  <thead>\n",
       "    <tr style=\"text-align: right;\">\n",
       "      <th></th>\n",
       "      <th>id</th>\n",
       "      <th>Age</th>\n",
       "      <th>Gender</th>\n",
       "      <th>Education Level</th>\n",
       "      <th>Job Title</th>\n",
       "      <th>Years of Experience</th>\n",
       "    </tr>\n",
       "  </thead>\n",
       "  <tbody>\n",
       "    <tr>\n",
       "      <th>51</th>\n",
       "      <td>51</td>\n",
       "      <td>33.0</td>\n",
       "      <td>Male</td>\n",
       "      <td>Master's</td>\n",
       "      <td>NaN</td>\n",
       "      <td>7.0</td>\n",
       "    </tr>\n",
       "    <tr>\n",
       "      <th>60</th>\n",
       "      <td>60</td>\n",
       "      <td>51.0</td>\n",
       "      <td>Female</td>\n",
       "      <td>Master's</td>\n",
       "      <td>NaN</td>\n",
       "      <td>23.0</td>\n",
       "    </tr>\n",
       "    <tr>\n",
       "      <th>139</th>\n",
       "      <td>139</td>\n",
       "      <td>43.0</td>\n",
       "      <td>Female</td>\n",
       "      <td>NaN</td>\n",
       "      <td>Senior Product Marketing Manager</td>\n",
       "      <td>14.0</td>\n",
       "    </tr>\n",
       "    <tr>\n",
       "      <th>172</th>\n",
       "      <td>172</td>\n",
       "      <td>NaN</td>\n",
       "      <td>NaN</td>\n",
       "      <td>NaN</td>\n",
       "      <td>NaN</td>\n",
       "      <td>NaN</td>\n",
       "    </tr>\n",
       "    <tr>\n",
       "      <th>219</th>\n",
       "      <td>219</td>\n",
       "      <td>40.0</td>\n",
       "      <td>NaN</td>\n",
       "      <td>Bachelor's</td>\n",
       "      <td>Senior Sales Representative</td>\n",
       "      <td>12.0</td>\n",
       "    </tr>\n",
       "    <tr>\n",
       "      <th>221</th>\n",
       "      <td>221</td>\n",
       "      <td>NaN</td>\n",
       "      <td>Female</td>\n",
       "      <td>Bachelor's</td>\n",
       "      <td>Junior Social Media Specialist</td>\n",
       "      <td>3.0</td>\n",
       "    </tr>\n",
       "    <tr>\n",
       "      <th>225</th>\n",
       "      <td>225</td>\n",
       "      <td>40.0</td>\n",
       "      <td>NaN</td>\n",
       "      <td>Bachelor's</td>\n",
       "      <td>Senior Marketing Manager</td>\n",
       "      <td>11.0</td>\n",
       "    </tr>\n",
       "    <tr>\n",
       "      <th>235</th>\n",
       "      <td>235</td>\n",
       "      <td>32.0</td>\n",
       "      <td>NaN</td>\n",
       "      <td>Bachelor's</td>\n",
       "      <td>Junior Sales Representative</td>\n",
       "      <td>3.0</td>\n",
       "    </tr>\n",
       "    <tr>\n",
       "      <th>260</th>\n",
       "      <td>260</td>\n",
       "      <td>NaN</td>\n",
       "      <td>NaN</td>\n",
       "      <td>NaN</td>\n",
       "      <td>NaN</td>\n",
       "      <td>NaN</td>\n",
       "    </tr>\n",
       "    <tr>\n",
       "      <th>261</th>\n",
       "      <td>261</td>\n",
       "      <td>37.0</td>\n",
       "      <td>Female</td>\n",
       "      <td>NaN</td>\n",
       "      <td>Senior Financial Manager</td>\n",
       "      <td>10.0</td>\n",
       "    </tr>\n",
       "    <tr>\n",
       "      <th>287</th>\n",
       "      <td>287</td>\n",
       "      <td>NaN</td>\n",
       "      <td>Female</td>\n",
       "      <td>Bachelor's</td>\n",
       "      <td>Senior Marketing Analyst</td>\n",
       "      <td>8.0</td>\n",
       "    </tr>\n",
       "    <tr>\n",
       "      <th>315</th>\n",
       "      <td>315</td>\n",
       "      <td>NaN</td>\n",
       "      <td>Male</td>\n",
       "      <td>Bachelor's</td>\n",
       "      <td>Senior Software Engineer</td>\n",
       "      <td>13.0</td>\n",
       "    </tr>\n",
       "    <tr>\n",
       "      <th>332</th>\n",
       "      <td>332</td>\n",
       "      <td>45.0</td>\n",
       "      <td>Female</td>\n",
       "      <td>PhD</td>\n",
       "      <td>NaN</td>\n",
       "      <td>16.0</td>\n",
       "    </tr>\n",
       "    <tr>\n",
       "      <th>366</th>\n",
       "      <td>366</td>\n",
       "      <td>31.0</td>\n",
       "      <td>Female</td>\n",
       "      <td>NaN</td>\n",
       "      <td>Junior Financial Analyst</td>\n",
       "      <td>3.0</td>\n",
       "    </tr>\n",
       "  </tbody>\n",
       "</table>\n",
       "</div>"
      ],
      "text/plain": [
       "      id   Age  Gender Education Level                         Job Title  \\\n",
       "51    51  33.0    Male        Master's                               NaN   \n",
       "60    60  51.0  Female        Master's                               NaN   \n",
       "139  139  43.0  Female             NaN  Senior Product Marketing Manager   \n",
       "172  172   NaN     NaN             NaN                               NaN   \n",
       "219  219  40.0     NaN      Bachelor's       Senior Sales Representative   \n",
       "221  221   NaN  Female      Bachelor's    Junior Social Media Specialist   \n",
       "225  225  40.0     NaN      Bachelor's          Senior Marketing Manager   \n",
       "235  235  32.0     NaN      Bachelor's       Junior Sales Representative   \n",
       "260  260   NaN     NaN             NaN                               NaN   \n",
       "261  261  37.0  Female             NaN          Senior Financial Manager   \n",
       "287  287   NaN  Female      Bachelor's          Senior Marketing Analyst   \n",
       "315  315   NaN    Male      Bachelor's          Senior Software Engineer   \n",
       "332  332  45.0  Female             PhD                               NaN   \n",
       "366  366  31.0  Female             NaN          Junior Financial Analyst   \n",
       "\n",
       "     Years of Experience  \n",
       "51                   7.0  \n",
       "60                  23.0  \n",
       "139                 14.0  \n",
       "172                  NaN  \n",
       "219                 12.0  \n",
       "221                  3.0  \n",
       "225                 11.0  \n",
       "235                  3.0  \n",
       "260                  NaN  \n",
       "261                 10.0  \n",
       "287                  8.0  \n",
       "315                 13.0  \n",
       "332                 16.0  \n",
       "366                  3.0  "
      ]
     },
     "execution_count": 11,
     "metadata": {},
     "output_type": "execute_result"
    }
   ],
   "source": [
    "people_df[people_df.isna().any(axis=1)]"
   ]
  },
  {
   "cell_type": "markdown",
   "id": "11706491",
   "metadata": {},
   "source": [
    "Check with descriptions"
   ]
  },
  {
   "cell_type": "markdown",
   "id": "bb494da4",
   "metadata": {},
   "source": [
    "#### Value counts"
   ]
  },
  {
   "cell_type": "code",
   "execution_count": 12,
   "id": "38792af6",
   "metadata": {},
   "outputs": [
    {
     "data": {
      "text/plain": [
       "Education Level\n",
       "Bachelor's    222\n",
       "Master's       97\n",
       "PhD            51\n",
       "Name: count, dtype: int64"
      ]
     },
     "execution_count": 12,
     "metadata": {},
     "output_type": "execute_result"
    }
   ],
   "source": [
    "people_df['Education Level'].value_counts()"
   ]
  },
  {
   "cell_type": "code",
   "execution_count": 14,
   "id": "c0f265a1",
   "metadata": {},
   "outputs": [
    {
     "data": {
      "text/plain": [
       "Job Title\n",
       "Director of Marketing             12\n",
       "Director of Operations            10\n",
       "Senior Business Analyst           10\n",
       "Senior Marketing Manager           9\n",
       "Senior Marketing Analyst           9\n",
       "                                  ..\n",
       "Junior Social Media Specialist     1\n",
       "Junior Operations Coordinator      1\n",
       "Senior HR Specialist               1\n",
       "Director of HR                     1\n",
       "Junior Financial Advisor           1\n",
       "Name: count, Length: 173, dtype: int64"
      ]
     },
     "execution_count": 14,
     "metadata": {},
     "output_type": "execute_result"
    }
   ],
   "source": [
    "people_df['Job Title'].value_counts()"
   ]
  },
  {
   "cell_type": "code",
   "execution_count": 15,
   "id": "ef1172c9",
   "metadata": {},
   "outputs": [
    {
     "data": {
      "text/plain": [
       "array(['Software Engineer', 'Data Analyst', 'Senior Manager',\n",
       "       'Sales Associate', 'Director', 'Marketing Analyst',\n",
       "       'Product Manager', 'Sales Manager', 'Marketing Coordinator',\n",
       "       'Senior Scientist', 'Software Developer', 'HR Manager',\n",
       "       'Financial Analyst', 'Project Manager', 'Customer Service Rep',\n",
       "       'Operations Manager', 'Marketing Manager', 'Senior Engineer',\n",
       "       'Data Entry Clerk', 'Sales Director', 'Business Analyst',\n",
       "       'VP of Operations', 'IT Support', 'Recruiter', 'Financial Manager',\n",
       "       'Social Media Specialist', 'Software Manager', 'Junior Developer',\n",
       "       'Senior Consultant', 'Product Designer', 'CEO', 'Accountant',\n",
       "       'Data Scientist', 'Marketing Specialist', 'Technical Writer',\n",
       "       'HR Generalist', 'Project Engineer', 'Customer Success Rep',\n",
       "       'Sales Executive', 'UX Designer', 'Operations Director',\n",
       "       'Network Engineer', 'Administrative Assistant',\n",
       "       'Strategy Consultant', 'Copywriter', 'Account Manager',\n",
       "       'Director of Marketing', 'Help Desk Analyst',\n",
       "       'Customer Service Manager', nan, 'Event Coordinator',\n",
       "       'VP of Finance', 'Graphic Designer', 'UX Researcher',\n",
       "       'Social Media Manager', 'Senior Data Scientist',\n",
       "       'Junior Accountant', 'Digital Marketing Manager', 'IT Manager',\n",
       "       'Customer Service Representative', 'Business Development Manager',\n",
       "       'Senior Financial Analyst', 'Web Developer', 'Research Director',\n",
       "       'Technical Support Specialist', 'Creative Director',\n",
       "       'Senior Software Engineer', 'Human Resources Director',\n",
       "       'Content Marketing Manager', 'Technical Recruiter',\n",
       "       'Sales Representative', 'Chief Technology Officer',\n",
       "       'Junior Designer', 'Financial Advisor', 'Junior Account Manager',\n",
       "       'Senior Project Manager', 'Principal Scientist',\n",
       "       'Supply Chain Manager', 'Senior Marketing Manager',\n",
       "       'Training Specialist', 'Research Scientist',\n",
       "       'Junior Software Developer', 'Public Relations Manager',\n",
       "       'Operations Analyst', 'Product Marketing Manager',\n",
       "       'Senior HR Manager', 'Junior Web Developer',\n",
       "       'Senior Project Coordinator', 'Chief Data Officer',\n",
       "       'Digital Content Producer', 'IT Support Specialist',\n",
       "       'Senior Marketing Analyst', 'Customer Success Manager',\n",
       "       'Senior Graphic Designer', 'Software Project Manager',\n",
       "       'Supply Chain Analyst', 'Senior Business Analyst',\n",
       "       'Junior Marketing Analyst', 'Office Manager', 'Principal Engineer',\n",
       "       'Junior HR Generalist', 'Senior Product Manager',\n",
       "       'Junior Operations Analyst', 'Senior HR Generalist',\n",
       "       'Sales Operations Manager', 'Senior Software Developer',\n",
       "       'Director of Operations', 'Junior Web Designer',\n",
       "       'Senior Training Specialist', 'Senior Research Scientist',\n",
       "       'Junior Sales Representative', 'Junior Marketing Manager',\n",
       "       'Junior Data Analyst', 'Senior Product Marketing Manager',\n",
       "       'Junior Business Analyst', 'Senior Sales Manager',\n",
       "       'Junior Marketing Specialist', 'Junior Project Manager',\n",
       "       'Senior Accountant', 'Director of Sales', 'Junior Recruiter',\n",
       "       'Senior Business Development Manager', 'Senior Product Designer',\n",
       "       'Junior Customer Support Specialist',\n",
       "       'Senior IT Support Specialist', 'Junior Financial Analyst',\n",
       "       'Senior Operations Manager', 'Director of Human Resources',\n",
       "       'Junior Software Engineer', 'Senior Sales Representative',\n",
       "       'Director of Product Management', 'Junior Copywriter',\n",
       "       'Senior Marketing Coordinator', 'Senior Human Resources Manager',\n",
       "       'Junior Business Development Associate', 'Senior Account Manager',\n",
       "       'Senior Researcher', 'Junior HR Coordinator',\n",
       "       'Director of Finance', 'Junior Marketing Coordinator',\n",
       "       'Junior Data Scientist', 'Senior Operations Analyst',\n",
       "       'Senior Human Resources Coordinator', 'Senior UX Designer',\n",
       "       'Junior Product Manager', 'Senior Marketing Specialist',\n",
       "       'Senior IT Project Manager', 'Senior Quality Assurance Analyst',\n",
       "       'Director of Sales and Marketing', 'Senior Account Executive',\n",
       "       'Director of Business Development', 'Junior Social Media Manager',\n",
       "       'Senior Human Resources Specialist', 'Senior Data Analyst',\n",
       "       'Director of Human Capital', 'Junior Advertising Coordinator',\n",
       "       'Junior UX Designer', 'Senior Marketing Director',\n",
       "       'Senior IT Consultant', 'Senior Financial Advisor',\n",
       "       'Junior Business Operations Analyst',\n",
       "       'Junior Social Media Specialist',\n",
       "       'Senior Product Development Manager', 'Junior Operations Manager',\n",
       "       'Senior Software Architect', 'Junior Research Scientist',\n",
       "       'Senior Financial Manager', 'Senior HR Specialist',\n",
       "       'Senior Data Engineer', 'Junior Operations Coordinator',\n",
       "       'Director of HR', 'Senior Operations Coordinator',\n",
       "       'Junior Financial Advisor', 'Director of Engineering'],\n",
       "      dtype=object)"
      ]
     },
     "execution_count": 15,
     "metadata": {},
     "output_type": "execute_result"
    }
   ],
   "source": [
    "people_df['Job Title'].unique()"
   ]
  },
  {
   "cell_type": "markdown",
   "id": "63b2ebbc",
   "metadata": {},
   "source": [
    "#### How many words does each job title have?\n"
   ]
  },
  {
   "cell_type": "code",
   "execution_count": 23,
   "id": "3f235683",
   "metadata": {},
   "outputs": [
    {
     "data": {
      "text/plain": [
       "Job Title\n",
       "1.0      6\n",
       "2.0     80\n",
       "3.0    253\n",
       "4.0     30\n",
       "5.0      1\n",
       "Name: count, dtype: int64"
      ]
     },
     "execution_count": 23,
     "metadata": {},
     "output_type": "execute_result"
    }
   ],
   "source": [
    "people_df['Job Title'].str.split().str.len().value_counts().sort_index()"
   ]
  },
  {
   "cell_type": "code",
   "execution_count": 26,
   "id": "1b939578",
   "metadata": {},
   "outputs": [
    {
     "data": {
      "text/plain": [
       "Job Title\n",
       "Recruiter     2\n",
       "Director      1\n",
       "CEO           1\n",
       "Accountant    1\n",
       "Copywriter    1\n",
       "Name: count, dtype: int64"
      ]
     },
     "execution_count": 26,
     "metadata": {},
     "output_type": "execute_result"
    }
   ],
   "source": [
    "people_df[people_df['Job Title'].str.split().str.len() == 1]['Job Title'].value_counts()"
   ]
  },
  {
   "cell_type": "code",
   "execution_count": 27,
   "id": "e5840515",
   "metadata": {},
   "outputs": [
    {
     "data": {
      "text/plain": [
       "Job Title\n",
       "Senior Scientist            3\n",
       "Marketing Coordinator       3\n",
       "Sales Manager               3\n",
       "Junior Accountant           3\n",
       "Product Manager             2\n",
       "Data Analyst                2\n",
       "Sales Associate             2\n",
       "Marketing Analyst           2\n",
       "Project Manager             2\n",
       "Senior Manager              2\n",
       "Business Analyst            2\n",
       "Senior Engineer             2\n",
       "Operations Manager          2\n",
       "Senior Accountant           2\n",
       "Administrative Assistant    2\n",
       "Event Coordinator           2\n",
       "HR Generalist               2\n",
       "HR Manager                  2\n",
       "IT Support                  1\n",
       "Financial Manager           1\n",
       "Software Manager            1\n",
       "Software Engineer           1\n",
       "Software Developer          1\n",
       "Financial Analyst           1\n",
       "Marketing Manager           1\n",
       "Sales Director              1\n",
       "Marketing Specialist        1\n",
       "Data Scientist              1\n",
       "Product Designer            1\n",
       "Senior Consultant           1\n",
       "Junior Developer            1\n",
       "Sales Executive             1\n",
       "Project Engineer            1\n",
       "UX Designer                 1\n",
       "Network Engineer            1\n",
       "Operations Director         1\n",
       "Account Manager             1\n",
       "Strategy Consultant         1\n",
       "Graphic Designer            1\n",
       "UX Researcher               1\n",
       "IT Manager                  1\n",
       "Technical Writer            1\n",
       "Web Developer               1\n",
       "Research Director           1\n",
       "Technical Recruiter         1\n",
       "Creative Director           1\n",
       "Junior Designer             1\n",
       "Financial Advisor           1\n",
       "Principal Scientist         1\n",
       "Sales Representative        1\n",
       "Training Specialist         1\n",
       "Research Scientist          1\n",
       "Office Manager              1\n",
       "Operations Analyst          1\n",
       "Principal Engineer          1\n",
       "Junior Recruiter            1\n",
       "Junior Copywriter           1\n",
       "Senior Researcher           1\n",
       "Name: count, dtype: int64"
      ]
     },
     "execution_count": 27,
     "metadata": {},
     "output_type": "execute_result"
    }
   ],
   "source": [
    "people_df[people_df['Job Title'].str.split().str.len() == 2]['Job Title'].value_counts()"
   ]
  },
  {
   "cell_type": "code",
   "execution_count": 28,
   "id": "5499d614",
   "metadata": {},
   "outputs": [
    {
     "data": {
      "text/plain": [
       "Job Title\n",
       "Junior Business Development Associate    7\n",
       "Senior Business Development Manager      4\n",
       "Senior Human Resources Manager           2\n",
       "Director of Human Resources              2\n",
       "Junior Business Operations Analyst       2\n",
       "Senior Product Marketing Manager         1\n",
       "Director of Product Management           1\n",
       "Senior IT Support Specialist             1\n",
       "Senior Human Resources Coordinator       1\n",
       "Junior Customer Support Specialist       1\n",
       "Senior IT Project Manager                1\n",
       "Senior Quality Assurance Analyst         1\n",
       "Junior Social Media Manager              1\n",
       "Director of Business Development         1\n",
       "Senior Human Resources Specialist        1\n",
       "Director of Human Capital                1\n",
       "Junior Social Media Specialist           1\n",
       "Senior Product Development Manager       1\n",
       "Name: count, dtype: int64"
      ]
     },
     "execution_count": 28,
     "metadata": {},
     "output_type": "execute_result"
    }
   ],
   "source": [
    "people_df[people_df['Job Title'].str.split().str.len() == 4]['Job Title'].value_counts()"
   ]
  },
  {
   "cell_type": "markdown",
   "id": "4e15663c",
   "metadata": {},
   "source": [
    "Deleting stop word: of will help accomodate some job titles"
   ]
  },
  {
   "cell_type": "code",
   "execution_count": 29,
   "id": "b9289f98",
   "metadata": {},
   "outputs": [
    {
     "data": {
      "text/plain": [
       "Job Title\n",
       "Director of Sales and Marketing    1\n",
       "Name: count, dtype: int64"
      ]
     },
     "execution_count": 29,
     "metadata": {},
     "output_type": "execute_result"
    }
   ],
   "source": [
    "people_df[people_df['Job Title'].str.split().str.len() == 5]['Job Title'].value_counts()"
   ]
  },
  {
   "cell_type": "markdown",
   "id": "f5e74002",
   "metadata": {},
   "source": [
    "### Salaries"
   ]
  },
  {
   "cell_type": "code",
   "execution_count": 17,
   "id": "0a5566e2",
   "metadata": {},
   "outputs": [
    {
     "name": "stdout",
     "output_type": "stream",
     "text": [
      "<class 'pandas.core.frame.DataFrame'>\n",
      "RangeIndex: 375 entries, 0 to 374\n",
      "Data columns (total 2 columns):\n",
      " #   Column  Non-Null Count  Dtype  \n",
      "---  ------  --------------  -----  \n",
      " 0   id      375 non-null    int64  \n",
      " 1   Salary  373 non-null    float64\n",
      "dtypes: float64(1), int64(1)\n",
      "memory usage: 6.0 KB\n"
     ]
    }
   ],
   "source": [
    "salary_df.info()"
   ]
  },
  {
   "cell_type": "code",
   "execution_count": 18,
   "id": "dd9da90c",
   "metadata": {},
   "outputs": [
    {
     "data": {
      "text/html": [
       "<div>\n",
       "<style scoped>\n",
       "    .dataframe tbody tr th:only-of-type {\n",
       "        vertical-align: middle;\n",
       "    }\n",
       "\n",
       "    .dataframe tbody tr th {\n",
       "        vertical-align: top;\n",
       "    }\n",
       "\n",
       "    .dataframe thead th {\n",
       "        text-align: right;\n",
       "    }\n",
       "</style>\n",
       "<table border=\"1\" class=\"dataframe\">\n",
       "  <thead>\n",
       "    <tr style=\"text-align: right;\">\n",
       "      <th></th>\n",
       "      <th>id</th>\n",
       "      <th>Salary</th>\n",
       "    </tr>\n",
       "  </thead>\n",
       "  <tbody>\n",
       "    <tr>\n",
       "      <th>0</th>\n",
       "      <td>0</td>\n",
       "      <td>90000.0</td>\n",
       "    </tr>\n",
       "    <tr>\n",
       "      <th>1</th>\n",
       "      <td>1</td>\n",
       "      <td>65000.0</td>\n",
       "    </tr>\n",
       "    <tr>\n",
       "      <th>2</th>\n",
       "      <td>2</td>\n",
       "      <td>150000.0</td>\n",
       "    </tr>\n",
       "    <tr>\n",
       "      <th>3</th>\n",
       "      <td>3</td>\n",
       "      <td>60000.0</td>\n",
       "    </tr>\n",
       "    <tr>\n",
       "      <th>4</th>\n",
       "      <td>4</td>\n",
       "      <td>200000.0</td>\n",
       "    </tr>\n",
       "  </tbody>\n",
       "</table>\n",
       "</div>"
      ],
      "text/plain": [
       "   id    Salary\n",
       "0   0   90000.0\n",
       "1   1   65000.0\n",
       "2   2  150000.0\n",
       "3   3   60000.0\n",
       "4   4  200000.0"
      ]
     },
     "execution_count": 18,
     "metadata": {},
     "output_type": "execute_result"
    }
   ],
   "source": [
    "salary_df.head()"
   ]
  },
  {
   "cell_type": "code",
   "execution_count": 19,
   "id": "9d95305c",
   "metadata": {},
   "outputs": [
    {
     "data": {
      "text/html": [
       "<div>\n",
       "<style scoped>\n",
       "    .dataframe tbody tr th:only-of-type {\n",
       "        vertical-align: middle;\n",
       "    }\n",
       "\n",
       "    .dataframe tbody tr th {\n",
       "        vertical-align: top;\n",
       "    }\n",
       "\n",
       "    .dataframe thead th {\n",
       "        text-align: right;\n",
       "    }\n",
       "</style>\n",
       "<table border=\"1\" class=\"dataframe\">\n",
       "  <thead>\n",
       "    <tr style=\"text-align: right;\">\n",
       "      <th></th>\n",
       "      <th>id</th>\n",
       "      <th>Salary</th>\n",
       "    </tr>\n",
       "  </thead>\n",
       "  <tbody>\n",
       "    <tr>\n",
       "      <th>count</th>\n",
       "      <td>375.000000</td>\n",
       "      <td>373.000000</td>\n",
       "    </tr>\n",
       "    <tr>\n",
       "      <th>mean</th>\n",
       "      <td>187.000000</td>\n",
       "      <td>100577.345845</td>\n",
       "    </tr>\n",
       "    <tr>\n",
       "      <th>std</th>\n",
       "      <td>108.397417</td>\n",
       "      <td>48240.013482</td>\n",
       "    </tr>\n",
       "    <tr>\n",
       "      <th>min</th>\n",
       "      <td>0.000000</td>\n",
       "      <td>350.000000</td>\n",
       "    </tr>\n",
       "    <tr>\n",
       "      <th>25%</th>\n",
       "      <td>93.500000</td>\n",
       "      <td>55000.000000</td>\n",
       "    </tr>\n",
       "    <tr>\n",
       "      <th>50%</th>\n",
       "      <td>187.000000</td>\n",
       "      <td>95000.000000</td>\n",
       "    </tr>\n",
       "    <tr>\n",
       "      <th>75%</th>\n",
       "      <td>280.500000</td>\n",
       "      <td>140000.000000</td>\n",
       "    </tr>\n",
       "    <tr>\n",
       "      <th>max</th>\n",
       "      <td>374.000000</td>\n",
       "      <td>250000.000000</td>\n",
       "    </tr>\n",
       "  </tbody>\n",
       "</table>\n",
       "</div>"
      ],
      "text/plain": [
       "               id         Salary\n",
       "count  375.000000     373.000000\n",
       "mean   187.000000  100577.345845\n",
       "std    108.397417   48240.013482\n",
       "min      0.000000     350.000000\n",
       "25%     93.500000   55000.000000\n",
       "50%    187.000000   95000.000000\n",
       "75%    280.500000  140000.000000\n",
       "max    374.000000  250000.000000"
      ]
     },
     "execution_count": 19,
     "metadata": {},
     "output_type": "execute_result"
    }
   ],
   "source": [
    "salary_df.describe()"
   ]
  },
  {
   "cell_type": "markdown",
   "id": "dd28ac89",
   "metadata": {},
   "source": [
    "### Descriptions"
   ]
  },
  {
   "cell_type": "code",
   "execution_count": 20,
   "id": "96687621",
   "metadata": {},
   "outputs": [
    {
     "name": "stdout",
     "output_type": "stream",
     "text": [
      "<class 'pandas.core.frame.DataFrame'>\n",
      "RangeIndex: 375 entries, 0 to 374\n",
      "Data columns (total 2 columns):\n",
      " #   Column       Non-Null Count  Dtype \n",
      "---  ------       --------------  ----- \n",
      " 0   id           375 non-null    int64 \n",
      " 1   Description  372 non-null    object\n",
      "dtypes: int64(1), object(1)\n",
      "memory usage: 6.0+ KB\n"
     ]
    }
   ],
   "source": [
    "description_df.info()"
   ]
  },
  {
   "cell_type": "code",
   "execution_count": 21,
   "id": "8d2b69b0",
   "metadata": {},
   "outputs": [
    {
     "data": {
      "text/html": [
       "<div>\n",
       "<style scoped>\n",
       "    .dataframe tbody tr th:only-of-type {\n",
       "        vertical-align: middle;\n",
       "    }\n",
       "\n",
       "    .dataframe tbody tr th {\n",
       "        vertical-align: top;\n",
       "    }\n",
       "\n",
       "    .dataframe thead th {\n",
       "        text-align: right;\n",
       "    }\n",
       "</style>\n",
       "<table border=\"1\" class=\"dataframe\">\n",
       "  <thead>\n",
       "    <tr style=\"text-align: right;\">\n",
       "      <th></th>\n",
       "      <th>id</th>\n",
       "      <th>Description</th>\n",
       "    </tr>\n",
       "  </thead>\n",
       "  <tbody>\n",
       "    <tr>\n",
       "      <th>0</th>\n",
       "      <td>0</td>\n",
       "      <td>I am a 32-year-old male working as a Software ...</td>\n",
       "    </tr>\n",
       "    <tr>\n",
       "      <th>1</th>\n",
       "      <td>1</td>\n",
       "      <td>I am a 28-year-old data analyst with a Master'...</td>\n",
       "    </tr>\n",
       "    <tr>\n",
       "      <th>2</th>\n",
       "      <td>2</td>\n",
       "      <td>I am a 45-year-old Senior Manager with a PhD a...</td>\n",
       "    </tr>\n",
       "    <tr>\n",
       "      <th>3</th>\n",
       "      <td>3</td>\n",
       "      <td>I am a 36-year-old female Sales Associate with...</td>\n",
       "    </tr>\n",
       "    <tr>\n",
       "      <th>4</th>\n",
       "      <td>4</td>\n",
       "      <td>I am a 52-year-old male with over two decades ...</td>\n",
       "    </tr>\n",
       "  </tbody>\n",
       "</table>\n",
       "</div>"
      ],
      "text/plain": [
       "   id                                        Description\n",
       "0   0  I am a 32-year-old male working as a Software ...\n",
       "1   1  I am a 28-year-old data analyst with a Master'...\n",
       "2   2  I am a 45-year-old Senior Manager with a PhD a...\n",
       "3   3  I am a 36-year-old female Sales Associate with...\n",
       "4   4  I am a 52-year-old male with over two decades ..."
      ]
     },
     "execution_count": 21,
     "metadata": {},
     "output_type": "execute_result"
    }
   ],
   "source": [
    "description_df.head()"
   ]
  },
  {
   "cell_type": "code",
   "execution_count": 22,
   "id": "54b5f8d1",
   "metadata": {},
   "outputs": [
    {
     "data": {
      "text/plain": [
       "[\"I am a 27-year-old Junior Business Development Associate with a Bachelor's degree and 1.5 years of experience. In my role, I identify new business opportunities, build relationships with potential clients, and support the senior team in executing strategic initiatives. My work allows me to leverage my analytical skills and passion for connecting with people. Eager to learn and grow, I am committed to advancing my career by continuously improving my skills and taking on new challenges in the business development field.\",\n",
       " \"I am a 40-year-old female with a Bachelor's degree and 12 years of experience as an Event Coordinator. My expertise lies in planning and executing diverse events, including corporate conferences, trade shows, weddings, and private parties. I excel in multitasking, attention to detail, and strong communication skills. My role involves working closely with clients, understanding their needs, building vendor relationships, negotiating contracts, and managing budgets. I am committed to continuous improvement, often seeking workshops and courses to stay updated with industry trends. My passion is delivering exceptional events that leave a lasting impression.\",\n",
       " \"I am a 36-year-old Senior Accountant with a Bachelor's degree in Accounting and seven years of experience. In my role, I manage and oversee financial activities, prepare financial statements, conduct audits, and ensure compliance with regulations. I am also involved in budgeting and forecasting to aid in informed decision-making. My expertise in various accounting software has streamlined operations and enhanced efficiency. I am committed to continuous improvement and staying updated with industry trends. Known for my strong work ethic and reliability, I excel in handling complex tasks and strive to foster a positive work environment.\",\n",
       " \"As a 35-year-old Senior Operations Analyst with a Bachelor's degree and eight years of experience, I specialize in optimizing and streamlining business operations to enhance efficiency and productivity. My role involves analyzing complex data sets, identifying trends, and providing actionable insights to drive decision-making processes. My strong analytical skills, critical thinking, and strategic approach have significantly contributed to my organization's success. I excel in collaborating with cross-functional teams, communicating complex concepts clearly, and implementing solutions that drive operational excellence. I am committed to continuous learning and professional development to stay updated with the latest industry trends and advancements.\",\n",
       " \"I am a 48-year-old HR Manager with a Bachelor's degree and 18 years of extensive experience in human resources. My expertise includes talent acquisition, employee relations, and organizational development. I excel in creating inclusive and productive workplaces, navigating complex employee issues with empathy and professionalism. My role involves overseeing recruitment processes, developing training programs, and implementing performance management systems. I am committed to continuous learning and staying updated with the latest HR trends and technologies, which enables me to introduce innovative solutions that enhance employee engagement and drive organizational performance.\"]"
      ]
     },
     "execution_count": 22,
     "metadata": {},
     "output_type": "execute_result"
    }
   ],
   "source": [
    "description_df['Description'].dropna().sample(5).tolist()"
   ]
  },
  {
   "cell_type": "markdown",
   "id": "3286b8a1",
   "metadata": {},
   "source": [
    "# FE Ideas"
   ]
  },
  {
   "cell_type": "markdown",
   "id": "eb224726",
   "metadata": {},
   "source": [
    "- Number of words in description\n",
    "- Number of verbs in description\n",
    "- Number of adjectives in description\n",
    "\n",
    "- Ratio salary/age \n",
    "- Ratio salary/experience\n",
    "\n",
    "- Job title breakdown -> seniority, area, job type\n",
    "- Binary feature for has seniority \n",
    "\n"
   ]
  },
  {
   "cell_type": "markdown",
   "id": "b0a23d50",
   "metadata": {},
   "source": [
    "# Testing ideas"
   ]
  },
  {
   "cell_type": "markdown",
   "id": "58df6aab",
   "metadata": {},
   "source": [
    "- Check description matches people table\n",
    "- Check experience makes sense with age\n",
    "\n"
   ]
  },
  {
   "cell_type": "code",
   "execution_count": null,
   "id": "76a745a9",
   "metadata": {},
   "outputs": [],
   "source": []
  }
 ],
 "metadata": {
  "kernelspec": {
   "display_name": "pwcc",
   "language": "python",
   "name": "python3"
  },
  "language_info": {
   "codemirror_mode": {
    "name": "ipython",
    "version": 3
   },
   "file_extension": ".py",
   "mimetype": "text/x-python",
   "name": "python",
   "nbconvert_exporter": "python",
   "pygments_lexer": "ipython3",
   "version": "3.10.12"
  }
 },
 "nbformat": 4,
 "nbformat_minor": 5
}
