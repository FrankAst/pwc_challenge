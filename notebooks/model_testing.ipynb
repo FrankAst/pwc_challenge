{
 "cells": [
  {
   "cell_type": "code",
   "execution_count": 1,
   "id": "7af038fb",
   "metadata": {},
   "outputs": [],
   "source": [
    "import pandas as pd"
   ]
  },
  {
   "cell_type": "code",
   "execution_count": 2,
   "id": "81234ccd",
   "metadata": {},
   "outputs": [],
   "source": [
    "import sys\n",
    "import os\n",
    "sys.path.append(os.path.join(os.getcwd(), '..'))\n",
    "\n",
    "from src import load_dataset, get_features_and_target, create_train_test_split\n"
   ]
  },
  {
   "cell_type": "code",
   "execution_count": 3,
   "id": "aff72e39",
   "metadata": {},
   "outputs": [
    {
     "name": "stdout",
     "output_type": "stream",
     "text": [
      "Loaded data: (366, 12)\n",
      "Features: (366, 11), Target: (366,)\n",
      "Train: (292, 11), Test: (74, 11)\n"
     ]
    }
   ],
   "source": [
    "# Test the flow\n",
    "path = \"../data/cleaned_data/final_dataset.csv\"\n",
    "\n",
    "df = load_dataset(path)\n",
    "print(f\"Loaded data: {df.shape}\")\n",
    "\n",
    "X, y = get_features_and_target(df)\n",
    "print(f\"Features: {X.shape}, Target: {y.shape}\")\n",
    "\n",
    "X_train, X_test, y_train, y_test = create_train_test_split(X, y, stratify_by=\"Seniority\")\n",
    "print(f\"Train: {X_train.shape}, Test: {X_test.shape}\")"
   ]
  },
  {
   "cell_type": "code",
   "execution_count": 4,
   "id": "32c3e9fc",
   "metadata": {},
   "outputs": [
    {
     "data": {
      "text/html": [
       "<div>\n",
       "<style scoped>\n",
       "    .dataframe tbody tr th:only-of-type {\n",
       "        vertical-align: middle;\n",
       "    }\n",
       "\n",
       "    .dataframe tbody tr th {\n",
       "        vertical-align: top;\n",
       "    }\n",
       "\n",
       "    .dataframe thead th {\n",
       "        text-align: right;\n",
       "    }\n",
       "</style>\n",
       "<table border=\"1\" class=\"dataframe\">\n",
       "  <thead>\n",
       "    <tr style=\"text-align: right;\">\n",
       "      <th></th>\n",
       "      <th>Gender</th>\n",
       "      <th>Education Level</th>\n",
       "      <th>Seniority</th>\n",
       "      <th>Area</th>\n",
       "      <th>Role</th>\n",
       "      <th>Age</th>\n",
       "      <th>Years of Experience</th>\n",
       "      <th>noun_count</th>\n",
       "      <th>verb_count</th>\n",
       "      <th>adj_count</th>\n",
       "      <th>adv_count</th>\n",
       "    </tr>\n",
       "  </thead>\n",
       "  <tbody>\n",
       "    <tr>\n",
       "      <th>119</th>\n",
       "      <td>Female</td>\n",
       "      <td>Bachelor's</td>\n",
       "      <td>Senior</td>\n",
       "      <td>Sales &amp; Marketing</td>\n",
       "      <td>Management</td>\n",
       "      <td>42.0</td>\n",
       "      <td>17.0</td>\n",
       "      <td>34</td>\n",
       "      <td>15</td>\n",
       "      <td>7</td>\n",
       "      <td>4</td>\n",
       "    </tr>\n",
       "    <tr>\n",
       "      <th>243</th>\n",
       "      <td>Female</td>\n",
       "      <td>Bachelor's</td>\n",
       "      <td>Junior</td>\n",
       "      <td>Sales &amp; Marketing</td>\n",
       "      <td>Support</td>\n",
       "      <td>30.0</td>\n",
       "      <td>2.0</td>\n",
       "      <td>25</td>\n",
       "      <td>11</td>\n",
       "      <td>5</td>\n",
       "      <td>2</td>\n",
       "    </tr>\n",
       "    <tr>\n",
       "      <th>242</th>\n",
       "      <td>Male</td>\n",
       "      <td>Master's</td>\n",
       "      <td>Director</td>\n",
       "      <td>Finance &amp; Operations</td>\n",
       "      <td>Leadership</td>\n",
       "      <td>47.0</td>\n",
       "      <td>20.0</td>\n",
       "      <td>32</td>\n",
       "      <td>13</td>\n",
       "      <td>12</td>\n",
       "      <td>1</td>\n",
       "    </tr>\n",
       "    <tr>\n",
       "      <th>301</th>\n",
       "      <td>Male</td>\n",
       "      <td>Master's</td>\n",
       "      <td>Director</td>\n",
       "      <td>Sales &amp; Marketing</td>\n",
       "      <td>Sales/Marketing</td>\n",
       "      <td>47.0</td>\n",
       "      <td>19.0</td>\n",
       "      <td>29</td>\n",
       "      <td>16</td>\n",
       "      <td>7</td>\n",
       "      <td>2</td>\n",
       "    </tr>\n",
       "    <tr>\n",
       "      <th>309</th>\n",
       "      <td>Female</td>\n",
       "      <td>Bachelor's</td>\n",
       "      <td>Junior</td>\n",
       "      <td>People &amp; Support</td>\n",
       "      <td>Support</td>\n",
       "      <td>30.0</td>\n",
       "      <td>2.0</td>\n",
       "      <td>39</td>\n",
       "      <td>15</td>\n",
       "      <td>7</td>\n",
       "      <td>1</td>\n",
       "    </tr>\n",
       "    <tr>\n",
       "      <th>...</th>\n",
       "      <td>...</td>\n",
       "      <td>...</td>\n",
       "      <td>...</td>\n",
       "      <td>...</td>\n",
       "      <td>...</td>\n",
       "      <td>...</td>\n",
       "      <td>...</td>\n",
       "      <td>...</td>\n",
       "      <td>...</td>\n",
       "      <td>...</td>\n",
       "      <td>...</td>\n",
       "    </tr>\n",
       "    <tr>\n",
       "      <th>76</th>\n",
       "      <td>Female</td>\n",
       "      <td>Bachelor's</td>\n",
       "      <td>Senior</td>\n",
       "      <td>Finance &amp; Operations</td>\n",
       "      <td>Management</td>\n",
       "      <td>50.0</td>\n",
       "      <td>22.0</td>\n",
       "      <td>25</td>\n",
       "      <td>14</td>\n",
       "      <td>12</td>\n",
       "      <td>1</td>\n",
       "    </tr>\n",
       "    <tr>\n",
       "      <th>241</th>\n",
       "      <td>Female</td>\n",
       "      <td>Bachelor's</td>\n",
       "      <td>Senior</td>\n",
       "      <td>Management</td>\n",
       "      <td>Support</td>\n",
       "      <td>41.0</td>\n",
       "      <td>11.0</td>\n",
       "      <td>29</td>\n",
       "      <td>13</td>\n",
       "      <td>11</td>\n",
       "      <td>2</td>\n",
       "    </tr>\n",
       "    <tr>\n",
       "      <th>11</th>\n",
       "      <td>Female</td>\n",
       "      <td>Bachelor's</td>\n",
       "      <td>Senior</td>\n",
       "      <td>People &amp; Support</td>\n",
       "      <td>Management</td>\n",
       "      <td>48.0</td>\n",
       "      <td>18.0</td>\n",
       "      <td>33</td>\n",
       "      <td>14</td>\n",
       "      <td>12</td>\n",
       "      <td>0</td>\n",
       "    </tr>\n",
       "    <tr>\n",
       "      <th>189</th>\n",
       "      <td>Male</td>\n",
       "      <td>Bachelor's</td>\n",
       "      <td>Senior</td>\n",
       "      <td>Product &amp; Design</td>\n",
       "      <td>Management</td>\n",
       "      <td>34.0</td>\n",
       "      <td>7.0</td>\n",
       "      <td>32</td>\n",
       "      <td>13</td>\n",
       "      <td>7</td>\n",
       "      <td>4</td>\n",
       "    </tr>\n",
       "    <tr>\n",
       "      <th>100</th>\n",
       "      <td>Female</td>\n",
       "      <td>Bachelor's</td>\n",
       "      <td>Senior</td>\n",
       "      <td>Management</td>\n",
       "      <td>Support</td>\n",
       "      <td>31.0</td>\n",
       "      <td>5.0</td>\n",
       "      <td>27</td>\n",
       "      <td>15</td>\n",
       "      <td>11</td>\n",
       "      <td>1</td>\n",
       "    </tr>\n",
       "  </tbody>\n",
       "</table>\n",
       "<p>292 rows × 11 columns</p>\n",
       "</div>"
      ],
      "text/plain": [
       "     Gender Education Level Seniority                  Area             Role  \\\n",
       "119  Female      Bachelor's    Senior     Sales & Marketing       Management   \n",
       "243  Female      Bachelor's    Junior     Sales & Marketing          Support   \n",
       "242    Male        Master's  Director  Finance & Operations       Leadership   \n",
       "301    Male        Master's  Director     Sales & Marketing  Sales/Marketing   \n",
       "309  Female      Bachelor's    Junior      People & Support          Support   \n",
       "..      ...             ...       ...                   ...              ...   \n",
       "76   Female      Bachelor's    Senior  Finance & Operations       Management   \n",
       "241  Female      Bachelor's    Senior            Management          Support   \n",
       "11   Female      Bachelor's    Senior      People & Support       Management   \n",
       "189    Male      Bachelor's    Senior      Product & Design       Management   \n",
       "100  Female      Bachelor's    Senior            Management          Support   \n",
       "\n",
       "      Age  Years of Experience  noun_count  verb_count  adj_count  adv_count  \n",
       "119  42.0                 17.0          34          15          7          4  \n",
       "243  30.0                  2.0          25          11          5          2  \n",
       "242  47.0                 20.0          32          13         12          1  \n",
       "301  47.0                 19.0          29          16          7          2  \n",
       "309  30.0                  2.0          39          15          7          1  \n",
       "..    ...                  ...         ...         ...        ...        ...  \n",
       "76   50.0                 22.0          25          14         12          1  \n",
       "241  41.0                 11.0          29          13         11          2  \n",
       "11   48.0                 18.0          33          14         12          0  \n",
       "189  34.0                  7.0          32          13          7          4  \n",
       "100  31.0                  5.0          27          15         11          1  \n",
       "\n",
       "[292 rows x 11 columns]"
      ]
     },
     "execution_count": 4,
     "metadata": {},
     "output_type": "execute_result"
    }
   ],
   "source": [
    "X_train"
   ]
  },
  {
   "cell_type": "markdown",
   "id": "cb7a6363",
   "metadata": {},
   "source": [
    "---"
   ]
  },
  {
   "cell_type": "markdown",
   "id": "03aff01b",
   "metadata": {},
   "source": [
    "# Dummy model"
   ]
  },
  {
   "cell_type": "code",
   "execution_count": 5,
   "id": "5f31fb85",
   "metadata": {},
   "outputs": [],
   "source": [
    "from src import dummy_model"
   ]
  },
  {
   "cell_type": "code",
   "execution_count": 6,
   "id": "6dcb23c9",
   "metadata": {},
   "outputs": [
    {
     "data": {
      "text/plain": [
       "<src.models.baseline.dummy_model at 0x7c05bcaa16c0>"
      ]
     },
     "execution_count": 6,
     "metadata": {},
     "output_type": "execute_result"
    }
   ],
   "source": [
    "# Create and train dummy model\n",
    "dummy = dummy_model(strategy='median')\n",
    "dummy.fit(X_train, y_train)"
   ]
  },
  {
   "cell_type": "code",
   "execution_count": 7,
   "id": "cdab6071",
   "metadata": {},
   "outputs": [
    {
     "name": "stdout",
     "output_type": "stream",
     "text": [
      "Dummy Model RMSE: 50897\n",
      "Dummy Model R²: -0.021\n"
     ]
    }
   ],
   "source": [
    "metrics = dummy.evaluate(X_test, y_test)\n",
    "print(f\"Dummy Model RMSE: {metrics['rmse']:.0f}\")\n",
    "print(f\"Dummy Model R²: {metrics['r2']:.3f}\")"
   ]
  },
  {
   "cell_type": "code",
   "execution_count": 8,
   "id": "b14586c8",
   "metadata": {},
   "outputs": [
    {
     "name": "stdout",
     "output_type": "stream",
     "text": [
      "Model info: {'model_type': 'dummy_model', 'is_fitted': True, 'model_params': {'strategy': 'median'}}\n"
     ]
    }
   ],
   "source": [
    "# Model info\n",
    "info = dummy.get_model_info()\n",
    "print(f\"Model info: {info}\")"
   ]
  },
  {
   "cell_type": "code",
   "execution_count": 9,
   "id": "2f6c81ee",
   "metadata": {},
   "outputs": [
    {
     "data": {
      "image/png": "[encoded data removed]",
      "text/plain": [
       "<Figure size 800x600 with 1 Axes>"
      ]
     },
     "metadata": {},
     "output_type": "display_data"
    }
   ],
   "source": [
    "# Evaluate and plot\n",
    "#print(\"Dummy Model Metrics:\", dummy.evaluate(X_test, y_test))\n",
    "dummy.plot_predictions(X_test, y_test, 'Test')\n"
   ]
  },
  {
   "cell_type": "markdown",
   "id": "01a77f16",
   "metadata": {},
   "source": [
    "---"
   ]
  },
  {
   "cell_type": "markdown",
   "id": "37a35723",
   "metadata": {},
   "source": [
    "# Linear Regression\n",
    "\n",
    "- Approaches. \n",
    "  - Ordinary Least Squares (OLS)\n",
    "  - Gradient Descent\n",
    "- Assumptions.\n",
    "    - Linearity\n",
    "    - Independence\n",
    "    - Homoscedasticity\n",
    "    - Normality of errors\n",
    "- Evaluation metrics.\n",
    "    - R-squared\n",
    "    - Adjusted R-squared\n",
    "    - Mean Squared Error (MSE)\n",
    "    - Root Mean Squared Error (RMSE)\n",
    "    - Mean Absolute Error (MAE)\n",
    "- Regularization.\n",
    "    - Lasso Regression (L1 regularization)\n",
    "    - Ridge Regression (L2 regularization)\n",
    "\n"
   ]
  },
  {
   "cell_type": "code",
   "execution_count": 10,
   "id": "e0822753",
   "metadata": {},
   "outputs": [],
   "source": [
    "from src.models import LinearModel"
   ]
  },
  {
   "cell_type": "markdown",
   "id": "b57e0029",
   "metadata": {},
   "source": [
    "### Basic OLS"
   ]
  },
  {
   "cell_type": "code",
   "execution_count": null,
   "id": "72aa6960",
   "metadata": {},
   "outputs": [
    {
     "name": "stdout",
     "output_type": "stream",
     "text": [
      "After encoding: 27 features\n",
      "  - Numerical features (scaled): 6\n",
      "  - One-hot features (not scaled): 21\n",
      "After k-best selection: 27 features\n",
      "Removed feature_0 (VIF: 142.11)\n",
      "Removed feature_12 (VIF: 28.11)\n",
      "Removed feature_2 (VIF: 15.20)\n",
      "Removed feature_1 (VIF: 14.26)\n",
      "Removed feature_3 (VIF: 11.67)\n",
      "Removed feature_4 (VIF: 6.43)\n",
      "After VIF check: 21 features\n"
     ]
    },
    {
     "data": {
      "text/plain": [
       "<src.models.LinearModel.LinearModel at 0x7c05fc941180>"
      ]
     },
     "execution_count": 11,
     "metadata": {},
     "output_type": "execute_result"
    }
   ],
   "source": [
    "# Basic OLS without feature selection\n",
    "ols_basic = LinearModel(algorithm='ols')\n",
    "ols_basic.fit(X_train, y_train)"
   ]
  },
  {
   "cell_type": "code",
   "execution_count": 12,
   "id": "9af350ae",
   "metadata": {},
   "outputs": [
    {
     "name": "stdout",
     "output_type": "stream",
     "text": [
      "OLS Basic - RMSE: 22742, R²: 0.796\n"
     ]
    }
   ],
   "source": [
    "# Evaluate\n",
    "metrics_ols = ols_basic.evaluate(X_test, y_test)\n",
    "print(f\"OLS Basic - RMSE: {metrics_ols['rmse']:.0f}, R²: {metrics_ols['r2']:.3f}\")\n"
   ]
  },
  {
   "cell_type": "code",
   "execution_count": 13,
   "id": "a3bdc998",
   "metadata": {},
   "outputs": [
    {
     "name": "stdout",
     "output_type": "stream",
     "text": [
      "Features: 27 → 21\n"
     ]
    }
   ],
   "source": [
    "# Model info\n",
    "info = ols_basic.get_model_info()\n",
    "print(f\"Features: {info['n_features_after_encoding']} → {info['n_features_final']}\")"
   ]
  },
  {
   "cell_type": "code",
   "execution_count": 16,
   "id": "493e9893",
   "metadata": {},
   "outputs": [
    {
     "data": {
      "text/html": [
       "<div>\n",
       "<style scoped>\n",
       "    .dataframe tbody tr th:only-of-type {\n",
       "        vertical-align: middle;\n",
       "    }\n",
       "\n",
       "    .dataframe tbody tr th {\n",
       "        vertical-align: top;\n",
       "    }\n",
       "\n",
       "    .dataframe thead th {\n",
       "        text-align: right;\n",
       "    }\n",
       "</style>\n",
       "<table border=\"1\" class=\"dataframe\">\n",
       "  <thead>\n",
       "    <tr style=\"text-align: right;\">\n",
       "      <th></th>\n",
       "      <th>feature</th>\n",
       "      <th>coefficient</th>\n",
       "      <th>abs_coefficient</th>\n",
       "    </tr>\n",
       "  </thead>\n",
       "  <tbody>\n",
       "    <tr>\n",
       "      <th>3</th>\n",
       "      <td>cat__Education Level_PhD</td>\n",
       "      <td>52118.228613</td>\n",
       "      <td>52118.228613</td>\n",
       "    </tr>\n",
       "    <tr>\n",
       "      <th>17</th>\n",
       "      <td>cat__Role_Leadership</td>\n",
       "      <td>48381.348693</td>\n",
       "      <td>48381.348693</td>\n",
       "    </tr>\n",
       "    <tr>\n",
       "      <th>5</th>\n",
       "      <td>cat__Seniority_Junior</td>\n",
       "      <td>-46552.776458</td>\n",
       "      <td>46552.776458</td>\n",
       "    </tr>\n",
       "    <tr>\n",
       "      <th>19</th>\n",
       "      <td>cat__Role_Sales/Marketing</td>\n",
       "      <td>44815.661276</td>\n",
       "      <td>44815.661276</td>\n",
       "    </tr>\n",
       "    <tr>\n",
       "      <th>4</th>\n",
       "      <td>cat__Seniority_Director</td>\n",
       "      <td>25441.559303</td>\n",
       "      <td>25441.559303</td>\n",
       "    </tr>\n",
       "    <tr>\n",
       "      <th>18</th>\n",
       "      <td>cat__Role_Management</td>\n",
       "      <td>14405.259107</td>\n",
       "      <td>14405.259107</td>\n",
       "    </tr>\n",
       "    <tr>\n",
       "      <th>2</th>\n",
       "      <td>cat__Education Level_Master's</td>\n",
       "      <td>13822.022604</td>\n",
       "      <td>13822.022604</td>\n",
       "    </tr>\n",
       "    <tr>\n",
       "      <th>16</th>\n",
       "      <td>cat__Role_Individual Contributor</td>\n",
       "      <td>-8644.393008</td>\n",
       "      <td>8644.393008</td>\n",
       "    </tr>\n",
       "    <tr>\n",
       "      <th>9</th>\n",
       "      <td>cat__Area_Other</td>\n",
       "      <td>-8405.113537</td>\n",
       "      <td>8405.113537</td>\n",
       "    </tr>\n",
       "    <tr>\n",
       "      <th>8</th>\n",
       "      <td>cat__Area_Management</td>\n",
       "      <td>-6773.907735</td>\n",
       "      <td>6773.907735</td>\n",
       "    </tr>\n",
       "    <tr>\n",
       "      <th>13</th>\n",
       "      <td>cat__Area_Software/data</td>\n",
       "      <td>6104.802952</td>\n",
       "      <td>6104.802952</td>\n",
       "    </tr>\n",
       "    <tr>\n",
       "      <th>6</th>\n",
       "      <td>cat__Seniority_Principal</td>\n",
       "      <td>5229.974694</td>\n",
       "      <td>5229.974694</td>\n",
       "    </tr>\n",
       "    <tr>\n",
       "      <th>1</th>\n",
       "      <td>cat__Gender_Male</td>\n",
       "      <td>4005.587122</td>\n",
       "      <td>4005.587122</td>\n",
       "    </tr>\n",
       "    <tr>\n",
       "      <th>0</th>\n",
       "      <td>num__adv_count</td>\n",
       "      <td>-3932.337453</td>\n",
       "      <td>3932.337453</td>\n",
       "    </tr>\n",
       "    <tr>\n",
       "      <th>12</th>\n",
       "      <td>cat__Area_Sales &amp; Marketing</td>\n",
       "      <td>-3367.334545</td>\n",
       "      <td>3367.334545</td>\n",
       "    </tr>\n",
       "    <tr>\n",
       "      <th>20</th>\n",
       "      <td>cat__Role_Support</td>\n",
       "      <td>-1985.249220</td>\n",
       "      <td>1985.249220</td>\n",
       "    </tr>\n",
       "    <tr>\n",
       "      <th>11</th>\n",
       "      <td>cat__Area_Product &amp; Design</td>\n",
       "      <td>-1102.873211</td>\n",
       "      <td>1102.873211</td>\n",
       "    </tr>\n",
       "    <tr>\n",
       "      <th>15</th>\n",
       "      <td>cat__Role_Engineer</td>\n",
       "      <td>-649.407807</td>\n",
       "      <td>649.407807</td>\n",
       "    </tr>\n",
       "    <tr>\n",
       "      <th>7</th>\n",
       "      <td>cat__Area_Finance &amp; Operations</td>\n",
       "      <td>580.382182</td>\n",
       "      <td>580.382182</td>\n",
       "    </tr>\n",
       "    <tr>\n",
       "      <th>10</th>\n",
       "      <td>cat__Area_People &amp; Support</td>\n",
       "      <td>549.586263</td>\n",
       "      <td>549.586263</td>\n",
       "    </tr>\n",
       "    <tr>\n",
       "      <th>14</th>\n",
       "      <td>cat__Role_Creative</td>\n",
       "      <td>148.306809</td>\n",
       "      <td>148.306809</td>\n",
       "    </tr>\n",
       "  </tbody>\n",
       "</table>\n",
       "</div>"
      ],
      "text/plain": [
       "                             feature   coefficient  abs_coefficient\n",
       "3           cat__Education Level_PhD  52118.228613     52118.228613\n",
       "17              cat__Role_Leadership  48381.348693     48381.348693\n",
       "5              cat__Seniority_Junior -46552.776458     46552.776458\n",
       "19         cat__Role_Sales/Marketing  44815.661276     44815.661276\n",
       "4            cat__Seniority_Director  25441.559303     25441.559303\n",
       "18              cat__Role_Management  14405.259107     14405.259107\n",
       "2      cat__Education Level_Master's  13822.022604     13822.022604\n",
       "16  cat__Role_Individual Contributor  -8644.393008      8644.393008\n",
       "9                    cat__Area_Other  -8405.113537      8405.113537\n",
       "8               cat__Area_Management  -6773.907735      6773.907735\n",
       "13           cat__Area_Software/data   6104.802952      6104.802952\n",
       "6           cat__Seniority_Principal   5229.974694      5229.974694\n",
       "1                   cat__Gender_Male   4005.587122      4005.587122\n",
       "0                     num__adv_count  -3932.337453      3932.337453\n",
       "12       cat__Area_Sales & Marketing  -3367.334545      3367.334545\n",
       "20                 cat__Role_Support  -1985.249220      1985.249220\n",
       "11        cat__Area_Product & Design  -1102.873211      1102.873211\n",
       "15                cat__Role_Engineer   -649.407807       649.407807\n",
       "7     cat__Area_Finance & Operations    580.382182       580.382182\n",
       "10        cat__Area_People & Support    549.586263       549.586263\n",
       "14                cat__Role_Creative    148.306809       148.306809"
      ]
     },
     "execution_count": 16,
     "metadata": {},
     "output_type": "execute_result"
    }
   ],
   "source": [
    "feature_imp = ols_basic.get_feature_importance()\n",
    "feature_imp\n"
   ]
  },
  {
   "cell_type": "code",
   "execution_count": 17,
   "id": "44167696",
   "metadata": {},
   "outputs": [
    {
     "data": {
      "image/png": "[encoded data removed]",
      "text/plain": [
       "<Figure size 800x600 with 1 Axes>"
      ]
     },
     "metadata": {},
     "output_type": "display_data"
    }
   ],
   "source": [
    "ols_basic.plot_predictions(X_test, y_test, 'Test')"
   ]
  },
  {
   "cell_type": "markdown",
   "id": "53a8495c",
   "metadata": {},
   "source": [
    "---"
   ]
  },
  {
   "cell_type": "markdown",
   "id": "9d251486",
   "metadata": {},
   "source": [
    "### SGD Regression\n"
   ]
  },
  {
   "cell_type": "code",
   "execution_count": 21,
   "id": "6a224ca0",
   "metadata": {},
   "outputs": [
    {
     "name": "stdout",
     "output_type": "stream",
     "text": [
      "After encoding: 27 features\n",
      "  - Numerical features (scaled): 6\n",
      "  - One-hot features (not scaled): 21\n",
      "After k-best selection: 27 features\n",
      "Removed feature_0 (VIF: 142.11)\n",
      "Removed feature_12 (VIF: 28.11)\n",
      "Removed feature_2 (VIF: 15.20)\n",
      "Removed feature_1 (VIF: 14.26)\n",
      "Removed feature_3 (VIF: 11.67)\n",
      "Removed feature_4 (VIF: 6.43)\n",
      "After VIF check: 21 features\n"
     ]
    },
    {
     "data": {
      "text/plain": [
       "<src.models.LinearModel.LinearModel at 0x7c05b7dbf460>"
      ]
     },
     "execution_count": 21,
     "metadata": {},
     "output_type": "execute_result"
    }
   ],
   "source": [
    "sgd_reg = LinearModel(algorithm='sgd')\n",
    "sgd_reg.fit(X_train, y_train)"
   ]
  },
  {
   "cell_type": "code",
   "execution_count": 22,
   "id": "bc88353e",
   "metadata": {},
   "outputs": [
    {
     "name": "stdout",
     "output_type": "stream",
     "text": [
      "SGD regression - RMSE: 23519, R²: 0.782\n"
     ]
    }
   ],
   "source": [
    "# Evaluate\n",
    "metrics_sgd = sgd_reg.evaluate(X_test, y_test)\n",
    "print(f\"SGD regression - RMSE: {metrics_sgd['rmse']:.0f}, R²: {metrics_sgd['r2']:.3f}\")\n"
   ]
  },
  {
   "cell_type": "code",
   "execution_count": 23,
   "id": "e475b310",
   "metadata": {},
   "outputs": [
    {
     "data": {
      "text/html": [
       "<div>\n",
       "<style scoped>\n",
       "    .dataframe tbody tr th:only-of-type {\n",
       "        vertical-align: middle;\n",
       "    }\n",
       "\n",
       "    .dataframe tbody tr th {\n",
       "        vertical-align: top;\n",
       "    }\n",
       "\n",
       "    .dataframe thead th {\n",
       "        text-align: right;\n",
       "    }\n",
       "</style>\n",
       "<table border=\"1\" class=\"dataframe\">\n",
       "  <thead>\n",
       "    <tr style=\"text-align: right;\">\n",
       "      <th></th>\n",
       "      <th>feature</th>\n",
       "      <th>coefficient</th>\n",
       "      <th>abs_coefficient</th>\n",
       "    </tr>\n",
       "  </thead>\n",
       "  <tbody>\n",
       "    <tr>\n",
       "      <th>3</th>\n",
       "      <td>cat__Education Level_PhD</td>\n",
       "      <td>53531.086348</td>\n",
       "      <td>53531.086348</td>\n",
       "    </tr>\n",
       "    <tr>\n",
       "      <th>5</th>\n",
       "      <td>cat__Seniority_Junior</td>\n",
       "      <td>-46208.585274</td>\n",
       "      <td>46208.585274</td>\n",
       "    </tr>\n",
       "    <tr>\n",
       "      <th>17</th>\n",
       "      <td>cat__Role_Leadership</td>\n",
       "      <td>43315.431039</td>\n",
       "      <td>43315.431039</td>\n",
       "    </tr>\n",
       "    <tr>\n",
       "      <th>4</th>\n",
       "      <td>cat__Seniority_Director</td>\n",
       "      <td>30005.205152</td>\n",
       "      <td>30005.205152</td>\n",
       "    </tr>\n",
       "    <tr>\n",
       "      <th>19</th>\n",
       "      <td>cat__Role_Sales/Marketing</td>\n",
       "      <td>28763.932670</td>\n",
       "      <td>28763.932670</td>\n",
       "    </tr>\n",
       "    <tr>\n",
       "      <th>2</th>\n",
       "      <td>cat__Education Level_Master's</td>\n",
       "      <td>14659.179644</td>\n",
       "      <td>14659.179644</td>\n",
       "    </tr>\n",
       "    <tr>\n",
       "      <th>18</th>\n",
       "      <td>cat__Role_Management</td>\n",
       "      <td>12451.476244</td>\n",
       "      <td>12451.476244</td>\n",
       "    </tr>\n",
       "    <tr>\n",
       "      <th>13</th>\n",
       "      <td>cat__Area_Software/data</td>\n",
       "      <td>10473.855871</td>\n",
       "      <td>10473.855871</td>\n",
       "    </tr>\n",
       "    <tr>\n",
       "      <th>16</th>\n",
       "      <td>cat__Role_Individual Contributor</td>\n",
       "      <td>-8781.798297</td>\n",
       "      <td>8781.798297</td>\n",
       "    </tr>\n",
       "    <tr>\n",
       "      <th>10</th>\n",
       "      <td>cat__Area_People &amp; Support</td>\n",
       "      <td>6701.873043</td>\n",
       "      <td>6701.873043</td>\n",
       "    </tr>\n",
       "    <tr>\n",
       "      <th>1</th>\n",
       "      <td>cat__Gender_Male</td>\n",
       "      <td>5662.734649</td>\n",
       "      <td>5662.734649</td>\n",
       "    </tr>\n",
       "    <tr>\n",
       "      <th>7</th>\n",
       "      <td>cat__Area_Finance &amp; Operations</td>\n",
       "      <td>5566.706841</td>\n",
       "      <td>5566.706841</td>\n",
       "    </tr>\n",
       "    <tr>\n",
       "      <th>20</th>\n",
       "      <td>cat__Role_Support</td>\n",
       "      <td>-4929.227520</td>\n",
       "      <td>4929.227520</td>\n",
       "    </tr>\n",
       "    <tr>\n",
       "      <th>11</th>\n",
       "      <td>cat__Area_Product &amp; Design</td>\n",
       "      <td>3701.546875</td>\n",
       "      <td>3701.546875</td>\n",
       "    </tr>\n",
       "    <tr>\n",
       "      <th>9</th>\n",
       "      <td>cat__Area_Other</td>\n",
       "      <td>-3603.461841</td>\n",
       "      <td>3603.461841</td>\n",
       "    </tr>\n",
       "    <tr>\n",
       "      <th>12</th>\n",
       "      <td>cat__Area_Sales &amp; Marketing</td>\n",
       "      <td>3406.346468</td>\n",
       "      <td>3406.346468</td>\n",
       "    </tr>\n",
       "    <tr>\n",
       "      <th>15</th>\n",
       "      <td>cat__Role_Engineer</td>\n",
       "      <td>-3074.643689</td>\n",
       "      <td>3074.643689</td>\n",
       "    </tr>\n",
       "    <tr>\n",
       "      <th>0</th>\n",
       "      <td>num__adv_count</td>\n",
       "      <td>2539.535198</td>\n",
       "      <td>2539.535198</td>\n",
       "    </tr>\n",
       "    <tr>\n",
       "      <th>6</th>\n",
       "      <td>cat__Seniority_Principal</td>\n",
       "      <td>2430.125945</td>\n",
       "      <td>2430.125945</td>\n",
       "    </tr>\n",
       "    <tr>\n",
       "      <th>14</th>\n",
       "      <td>cat__Role_Creative</td>\n",
       "      <td>-1393.414916</td>\n",
       "      <td>1393.414916</td>\n",
       "    </tr>\n",
       "    <tr>\n",
       "      <th>8</th>\n",
       "      <td>cat__Area_Management</td>\n",
       "      <td>1022.576729</td>\n",
       "      <td>1022.576729</td>\n",
       "    </tr>\n",
       "  </tbody>\n",
       "</table>\n",
       "</div>"
      ],
      "text/plain": [
       "                             feature   coefficient  abs_coefficient\n",
       "3           cat__Education Level_PhD  53531.086348     53531.086348\n",
       "5              cat__Seniority_Junior -46208.585274     46208.585274\n",
       "17              cat__Role_Leadership  43315.431039     43315.431039\n",
       "4            cat__Seniority_Director  30005.205152     30005.205152\n",
       "19         cat__Role_Sales/Marketing  28763.932670     28763.932670\n",
       "2      cat__Education Level_Master's  14659.179644     14659.179644\n",
       "18              cat__Role_Management  12451.476244     12451.476244\n",
       "13           cat__Area_Software/data  10473.855871     10473.855871\n",
       "16  cat__Role_Individual Contributor  -8781.798297      8781.798297\n",
       "10        cat__Area_People & Support   6701.873043      6701.873043\n",
       "1                   cat__Gender_Male   5662.734649      5662.734649\n",
       "7     cat__Area_Finance & Operations   5566.706841      5566.706841\n",
       "20                 cat__Role_Support  -4929.227520      4929.227520\n",
       "11        cat__Area_Product & Design   3701.546875      3701.546875\n",
       "9                    cat__Area_Other  -3603.461841      3603.461841\n",
       "12       cat__Area_Sales & Marketing   3406.346468      3406.346468\n",
       "15                cat__Role_Engineer  -3074.643689      3074.643689\n",
       "0                     num__adv_count   2539.535198      2539.535198\n",
       "6           cat__Seniority_Principal   2430.125945      2430.125945\n",
       "14                cat__Role_Creative  -1393.414916      1393.414916\n",
       "8               cat__Area_Management   1022.576729      1022.576729"
      ]
     },
     "execution_count": 23,
     "metadata": {},
     "output_type": "execute_result"
    }
   ],
   "source": [
    "feature_imp_sgd = sgd_reg.get_feature_importance()\n",
    "feature_imp_sgd"
   ]
  },
  {
   "cell_type": "code",
   "execution_count": 24,
   "id": "8fe9a296",
   "metadata": {},
   "outputs": [
    {
     "data": {
      "image/png": "[encoded data removed]",
      "text/plain": [
       "<Figure size 800x600 with 1 Axes>"
      ]
     },
     "metadata": {},
     "output_type": "display_data"
    }
   ],
   "source": [
    "sgd_reg.plot_predictions(X_test, y_test, 'Test')"
   ]
  },
  {
   "cell_type": "markdown",
   "id": "bd20f222",
   "metadata": {},
   "source": [
    "---"
   ]
  },
  {
   "cell_type": "markdown",
   "id": "84c7a7c6",
   "metadata": {},
   "source": [
    "### Lasso Regression"
   ]
  },
  {
   "cell_type": "code",
   "execution_count": 46,
   "id": "6239cf10",
   "metadata": {},
   "outputs": [
    {
     "name": "stdout",
     "output_type": "stream",
     "text": [
      "After encoding: 27 features\n",
      "  - Numerical features (scaled): 6\n",
      "  - One-hot features (not scaled): 21\n",
      "Selected 10 best features from 27 features\n",
      "After k-best selection: 10 features\n",
      "Removed feature_0 (VIF: 131.09)\n",
      "Removed feature_1 (VIF: 13.96)\n",
      "After VIF check: 8 features\n"
     ]
    },
    {
     "data": {
      "text/plain": [
       "<src.models.LinearModel.LinearModel at 0x7c05b4abbdf0>"
      ]
     },
     "execution_count": 46,
     "metadata": {},
     "output_type": "execute_result"
    }
   ],
   "source": [
    "lasso_reg = LinearModel(algorithm='lasso', alpha = 1.2, k_best=10)\n",
    "lasso_reg.fit(X_train, y_train)"
   ]
  },
  {
   "cell_type": "code",
   "execution_count": 47,
   "id": "49142cd2",
   "metadata": {},
   "outputs": [
    {
     "name": "stdout",
     "output_type": "stream",
     "text": [
      "Lasso regression - RMSE: 23392, R²: 0.784\n"
     ]
    }
   ],
   "source": [
    "metrics_lasso = lasso_reg.evaluate(X_test, y_test)\n",
    "print(f\"Lasso regression - RMSE: {metrics_lasso['rmse']:.0f}, R²: {metrics_lasso['r2']:.3f}\")\n"
   ]
  },
  {
   "cell_type": "code",
   "execution_count": 48,
   "id": "b83691ed",
   "metadata": {},
   "outputs": [
    {
     "name": "stdout",
     "output_type": "stream",
     "text": [
      "Features: 27 → 8\n"
     ]
    }
   ],
   "source": [
    "# Model info\n",
    "info = lasso_reg.get_model_info()\n",
    "print(f\"Features: {info['n_features_after_encoding']} → {info['n_features_final']}\")"
   ]
  },
  {
   "cell_type": "code",
   "execution_count": 49,
   "id": "b10f2974",
   "metadata": {},
   "outputs": [
    {
     "data": {
      "text/html": [
       "<div>\n",
       "<style scoped>\n",
       "    .dataframe tbody tr th:only-of-type {\n",
       "        vertical-align: middle;\n",
       "    }\n",
       "\n",
       "    .dataframe tbody tr th {\n",
       "        vertical-align: top;\n",
       "    }\n",
       "\n",
       "    .dataframe thead th {\n",
       "        text-align: right;\n",
       "    }\n",
       "</style>\n",
       "<table border=\"1\" class=\"dataframe\">\n",
       "  <thead>\n",
       "    <tr style=\"text-align: right;\">\n",
       "      <th></th>\n",
       "      <th>feature</th>\n",
       "      <th>coefficient</th>\n",
       "      <th>abs_coefficient</th>\n",
       "    </tr>\n",
       "  </thead>\n",
       "  <tbody>\n",
       "    <tr>\n",
       "      <th>3</th>\n",
       "      <td>cat__Seniority_Junior</td>\n",
       "      <td>-75914.887406</td>\n",
       "      <td>75914.887406</td>\n",
       "    </tr>\n",
       "    <tr>\n",
       "      <th>1</th>\n",
       "      <td>cat__Education Level_PhD</td>\n",
       "      <td>44912.959549</td>\n",
       "      <td>44912.959549</td>\n",
       "    </tr>\n",
       "    <tr>\n",
       "      <th>6</th>\n",
       "      <td>cat__Role_Leadership</td>\n",
       "      <td>33070.678990</td>\n",
       "      <td>33070.678990</td>\n",
       "    </tr>\n",
       "    <tr>\n",
       "      <th>4</th>\n",
       "      <td>cat__Seniority_Senior</td>\n",
       "      <td>-25878.295676</td>\n",
       "      <td>25878.295676</td>\n",
       "    </tr>\n",
       "    <tr>\n",
       "      <th>5</th>\n",
       "      <td>cat__Role_Individual Contributor</td>\n",
       "      <td>-15993.417103</td>\n",
       "      <td>15993.417103</td>\n",
       "    </tr>\n",
       "    <tr>\n",
       "      <th>0</th>\n",
       "      <td>cat__Education Level_Master's</td>\n",
       "      <td>13671.979368</td>\n",
       "      <td>13671.979368</td>\n",
       "    </tr>\n",
       "    <tr>\n",
       "      <th>7</th>\n",
       "      <td>cat__Role_Support</td>\n",
       "      <td>-12686.626897</td>\n",
       "      <td>12686.626897</td>\n",
       "    </tr>\n",
       "    <tr>\n",
       "      <th>2</th>\n",
       "      <td>cat__Seniority_Director</td>\n",
       "      <td>12377.000116</td>\n",
       "      <td>12377.000116</td>\n",
       "    </tr>\n",
       "  </tbody>\n",
       "</table>\n",
       "</div>"
      ],
      "text/plain": [
       "                            feature   coefficient  abs_coefficient\n",
       "3             cat__Seniority_Junior -75914.887406     75914.887406\n",
       "1          cat__Education Level_PhD  44912.959549     44912.959549\n",
       "6              cat__Role_Leadership  33070.678990     33070.678990\n",
       "4             cat__Seniority_Senior -25878.295676     25878.295676\n",
       "5  cat__Role_Individual Contributor -15993.417103     15993.417103\n",
       "0     cat__Education Level_Master's  13671.979368     13671.979368\n",
       "7                 cat__Role_Support -12686.626897     12686.626897\n",
       "2           cat__Seniority_Director  12377.000116     12377.000116"
      ]
     },
     "execution_count": 49,
     "metadata": {},
     "output_type": "execute_result"
    }
   ],
   "source": [
    "feature_imp_lasso = lasso_reg.get_feature_importance()\n",
    "feature_imp_lasso"
   ]
  },
  {
   "cell_type": "code",
   "execution_count": 50,
   "id": "4432330e",
   "metadata": {},
   "outputs": [
    {
     "data": {
      "image/png": "[encoded data removed]",
      "text/plain": [
       "<Figure size 800x600 with 1 Axes>"
      ]
     },
     "metadata": {},
     "output_type": "display_data"
    }
   ],
   "source": [
    "lasso_reg.plot_predictions(X_test, y_test, 'Test')"
   ]
  },
  {
   "cell_type": "code",
   "execution_count": 51,
   "id": "2ff89d57",
   "metadata": {},
   "outputs": [
    {
     "data": {
      "text/plain": [
       "{'model_type': 'LinearModel',\n",
       " 'is_fitted': True,\n",
       " 'model_params': {'alpha': 1.2,\n",
       "  'algorithm': 'lasso',\n",
       "  'vif_threshold': 5.0,\n",
       "  'k_best': 10},\n",
       " 'n_features_after_encoding': 27,\n",
       " 'n_features_after_kbest': 10,\n",
       " 'n_features_final': 8,\n",
       " 'n_numerical_features_scaled': 6,\n",
       " 'n_onehot_features_not_scaled': 21,\n",
       " 'features_removed_by_kbest': 17,\n",
       " 'features_removed_by_vif': 2}"
      ]
     },
     "execution_count": 51,
     "metadata": {},
     "output_type": "execute_result"
    }
   ],
   "source": [
    "lasso_reg.get_model_info()"
   ]
  },
  {
   "cell_type": "code",
   "execution_count": 52,
   "id": "f8e491be",
   "metadata": {},
   "outputs": [
    {
     "data": {
      "text/html": [
       "<div>\n",
       "<style scoped>\n",
       "    .dataframe tbody tr th:only-of-type {\n",
       "        vertical-align: middle;\n",
       "    }\n",
       "\n",
       "    .dataframe tbody tr th {\n",
       "        vertical-align: top;\n",
       "    }\n",
       "\n",
       "    .dataframe thead th {\n",
       "        text-align: right;\n",
       "    }\n",
       "</style>\n",
       "<table border=\"1\" class=\"dataframe\">\n",
       "  <thead>\n",
       "    <tr style=\"text-align: right;\">\n",
       "      <th></th>\n",
       "      <th>Age</th>\n",
       "      <th>Gender</th>\n",
       "      <th>Education Level</th>\n",
       "      <th>Years of Experience</th>\n",
       "      <th>noun_count</th>\n",
       "      <th>verb_count</th>\n",
       "      <th>adj_count</th>\n",
       "      <th>adv_count</th>\n",
       "      <th>Seniority</th>\n",
       "      <th>Area</th>\n",
       "      <th>Role</th>\n",
       "      <th>Salary</th>\n",
       "    </tr>\n",
       "  </thead>\n",
       "  <tbody>\n",
       "    <tr>\n",
       "      <th>30</th>\n",
       "      <td>50.0</td>\n",
       "      <td>Male</td>\n",
       "      <td>Bachelor's</td>\n",
       "      <td>25.0</td>\n",
       "      <td>28</td>\n",
       "      <td>15</td>\n",
       "      <td>9</td>\n",
       "      <td>2</td>\n",
       "      <td>C-level</td>\n",
       "      <td>Business</td>\n",
       "      <td>Leadership</td>\n",
       "      <td>250000.0</td>\n",
       "    </tr>\n",
       "    <tr>\n",
       "      <th>83</th>\n",
       "      <td>52.0</td>\n",
       "      <td>Male</td>\n",
       "      <td>PhD</td>\n",
       "      <td>24.0</td>\n",
       "      <td>35</td>\n",
       "      <td>16</td>\n",
       "      <td>7</td>\n",
       "      <td>2</td>\n",
       "      <td>C-level</td>\n",
       "      <td>Software/data</td>\n",
       "      <td>Leadership</td>\n",
       "      <td>250000.0</td>\n",
       "    </tr>\n",
       "    <tr>\n",
       "      <th>105</th>\n",
       "      <td>44.0</td>\n",
       "      <td>Male</td>\n",
       "      <td>PhD</td>\n",
       "      <td>16.0</td>\n",
       "      <td>33</td>\n",
       "      <td>14</td>\n",
       "      <td>4</td>\n",
       "      <td>2</td>\n",
       "      <td>C-level</td>\n",
       "      <td>Software/data</td>\n",
       "      <td>Leadership</td>\n",
       "      <td>220000.0</td>\n",
       "    </tr>\n",
       "  </tbody>\n",
       "</table>\n",
       "</div>"
      ],
      "text/plain": [
       "      Age Gender Education Level  Years of Experience  noun_count  verb_count  \\\n",
       "30   50.0   Male      Bachelor's                 25.0          28          15   \n",
       "83   52.0   Male             PhD                 24.0          35          16   \n",
       "105  44.0   Male             PhD                 16.0          33          14   \n",
       "\n",
       "     adj_count  adv_count Seniority           Area        Role    Salary  \n",
       "30           9          2   C-level       Business  Leadership  250000.0  \n",
       "83           7          2   C-level  Software/data  Leadership  250000.0  \n",
       "105          4          2   C-level  Software/data  Leadership  220000.0  "
      ]
     },
     "execution_count": 52,
     "metadata": {},
     "output_type": "execute_result"
    }
   ],
   "source": [
    "df[df['Salary'] > 200000]"
   ]
  },
  {
   "cell_type": "code",
   "execution_count": 53,
   "id": "538ce20e",
   "metadata": {},
   "outputs": [
    {
     "data": {
      "text/html": [
       "<div>\n",
       "<style scoped>\n",
       "    .dataframe tbody tr th:only-of-type {\n",
       "        vertical-align: middle;\n",
       "    }\n",
       "\n",
       "    .dataframe tbody tr th {\n",
       "        vertical-align: top;\n",
       "    }\n",
       "\n",
       "    .dataframe thead th {\n",
       "        text-align: right;\n",
       "    }\n",
       "</style>\n",
       "<table border=\"1\" class=\"dataframe\">\n",
       "  <thead>\n",
       "    <tr style=\"text-align: right;\">\n",
       "      <th></th>\n",
       "      <th>Gender</th>\n",
       "      <th>Education Level</th>\n",
       "      <th>Seniority</th>\n",
       "      <th>Area</th>\n",
       "      <th>Role</th>\n",
       "      <th>Age</th>\n",
       "      <th>Years of Experience</th>\n",
       "      <th>noun_count</th>\n",
       "      <th>verb_count</th>\n",
       "      <th>adj_count</th>\n",
       "      <th>adv_count</th>\n",
       "    </tr>\n",
       "  </thead>\n",
       "  <tbody>\n",
       "    <tr>\n",
       "      <th>30</th>\n",
       "      <td>Male</td>\n",
       "      <td>Bachelor's</td>\n",
       "      <td>C-level</td>\n",
       "      <td>Business</td>\n",
       "      <td>Leadership</td>\n",
       "      <td>50.0</td>\n",
       "      <td>25.0</td>\n",
       "      <td>28</td>\n",
       "      <td>15</td>\n",
       "      <td>9</td>\n",
       "      <td>2</td>\n",
       "    </tr>\n",
       "  </tbody>\n",
       "</table>\n",
       "</div>"
      ],
      "text/plain": [
       "   Gender Education Level Seniority      Area        Role   Age  \\\n",
       "30   Male      Bachelor's   C-level  Business  Leadership  50.0   \n",
       "\n",
       "    Years of Experience  noun_count  verb_count  adj_count  adv_count  \n",
       "30                 25.0          28          15          9          2  "
      ]
     },
     "execution_count": 53,
     "metadata": {},
     "output_type": "execute_result"
    }
   ],
   "source": [
    "X_test.loc[[30]]"
   ]
  },
  {
   "cell_type": "code",
   "execution_count": 54,
   "id": "1ce85fe9",
   "metadata": {},
   "outputs": [
    {
     "data": {
      "text/html": [
       "<div>\n",
       "<style scoped>\n",
       "    .dataframe tbody tr th:only-of-type {\n",
       "        vertical-align: middle;\n",
       "    }\n",
       "\n",
       "    .dataframe tbody tr th {\n",
       "        vertical-align: top;\n",
       "    }\n",
       "\n",
       "    .dataframe thead th {\n",
       "        text-align: right;\n",
       "    }\n",
       "</style>\n",
       "<table border=\"1\" class=\"dataframe\">\n",
       "  <thead>\n",
       "    <tr style=\"text-align: right;\">\n",
       "      <th></th>\n",
       "      <th>Gender</th>\n",
       "      <th>Education Level</th>\n",
       "      <th>Seniority</th>\n",
       "      <th>Area</th>\n",
       "      <th>Role</th>\n",
       "      <th>Age</th>\n",
       "      <th>Years of Experience</th>\n",
       "      <th>noun_count</th>\n",
       "      <th>verb_count</th>\n",
       "      <th>adj_count</th>\n",
       "      <th>adv_count</th>\n",
       "    </tr>\n",
       "  </thead>\n",
       "  <tbody>\n",
       "    <tr>\n",
       "      <th>83</th>\n",
       "      <td>Male</td>\n",
       "      <td>PhD</td>\n",
       "      <td>C-level</td>\n",
       "      <td>Software/data</td>\n",
       "      <td>Leadership</td>\n",
       "      <td>52.0</td>\n",
       "      <td>24.0</td>\n",
       "      <td>35</td>\n",
       "      <td>16</td>\n",
       "      <td>7</td>\n",
       "      <td>2</td>\n",
       "    </tr>\n",
       "    <tr>\n",
       "      <th>105</th>\n",
       "      <td>Male</td>\n",
       "      <td>PhD</td>\n",
       "      <td>C-level</td>\n",
       "      <td>Software/data</td>\n",
       "      <td>Leadership</td>\n",
       "      <td>44.0</td>\n",
       "      <td>16.0</td>\n",
       "      <td>33</td>\n",
       "      <td>14</td>\n",
       "      <td>4</td>\n",
       "      <td>2</td>\n",
       "    </tr>\n",
       "  </tbody>\n",
       "</table>\n",
       "</div>"
      ],
      "text/plain": [
       "    Gender Education Level Seniority           Area        Role   Age  \\\n",
       "83    Male             PhD   C-level  Software/data  Leadership  52.0   \n",
       "105   Male             PhD   C-level  Software/data  Leadership  44.0   \n",
       "\n",
       "     Years of Experience  noun_count  verb_count  adj_count  adv_count  \n",
       "83                  24.0          35          16          7          2  \n",
       "105                 16.0          33          14          4          2  "
      ]
     },
     "execution_count": 54,
     "metadata": {},
     "output_type": "execute_result"
    }
   ],
   "source": [
    "X_train.loc[[83,105]]"
   ]
  },
  {
   "cell_type": "markdown",
   "id": "4e2badd7",
   "metadata": {},
   "source": [
    "---"
   ]
  },
  {
   "cell_type": "code",
   "execution_count": null,
   "id": "18d82028",
   "metadata": {},
   "outputs": [],
   "source": []
  }
 ],
 "metadata": {
  "kernelspec": {
   "display_name": "pwcc",
   "language": "python",
   "name": "python3"
  },
  "language_info": {
   "codemirror_mode": {
    "name": "ipython",
    "version": 3
   },
   "file_extension": ".py",
   "mimetype": "text/x-python",
   "name": "python",
   "nbconvert_exporter": "python",
   "pygments_lexer": "ipython3",
   "version": "3.10.12"
  }
 },
 "nbformat": 4,
 "nbformat_minor": 5
}
